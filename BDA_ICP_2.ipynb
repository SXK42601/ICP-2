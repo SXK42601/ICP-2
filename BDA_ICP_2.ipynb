{
  "nbformat": 4,
  "nbformat_minor": 0,
  "metadata": {
    "colab": {
      "provenance": []
    },
    "kernelspec": {
      "name": "python3",
      "display_name": "Python 3"
    },
    "language_info": {
      "name": "python"
    }
  },
  "cells": [
    {
      "cell_type": "code",
      "execution_count": null,
      "metadata": {
        "colab": {
          "base_uri": "https://localhost:8080/"
        },
        "id": "LzECuFJcFvxv",
        "outputId": "f0118d86-0b0e-4519-92e5-bc07404d4ec7"
      },
      "outputs": [
        {
          "output_type": "stream",
          "name": "stdout",
          "text": [
            "Sorted Ages: [19, 19, 20, 22, 24, 24, 24, 25, 25, 26, 19, 26]\n",
            "Min Age: 19\n",
            "Max Age: 26\n",
            "Median Age: 24.0\n",
            "Average Age: 22.75\n",
            "Age Range: 7\n"
          ]
        }
      ],
      "source": [
        "ages = [19, 22, 19, 24, 20, 25, 26, 24, 25, 24]\n",
        "\n",
        "# Sort the list\n",
        "ages.sort()\n",
        "\n",
        "# Find the min and max age\n",
        "min_age = ages[0]\n",
        "max_age = ages[-1]\n",
        "\n",
        "# Add min and max age again to the list\n",
        "ages.append(min_age)\n",
        "ages.append(max_age)\n",
        "\n",
        "# Find the median age\n",
        "middle_index = len(ages) // 2\n",
        "if len(ages) % 2 == 0:\n",
        "    median_age = (ages[middle_index - 1] + ages[middle_index]) / 2\n",
        "else:\n",
        "    median_age = ages[middle_index]\n",
        "\n",
        "# Find the average age\n",
        "average_age = sum(ages) / len(ages)\n",
        "\n",
        "# Find the range of ages\n",
        "age_range = max_age - min_age\n",
        "\n",
        "# Print the results\n",
        "print(\"Sorted Ages:\", ages)\n",
        "print(\"Min Age:\", min_age)\n",
        "print(\"Max Age:\", max_age)\n",
        "print(\"Median Age:\", median_age)\n",
        "print(\"Average Age:\", average_age)\n",
        "print(\"Age Range:\", age_range)\n"
      ]
    },
    {
      "cell_type": "code",
      "source": [
        "# Create an empty dictionary called dog\n",
        "dog = {}\n",
        "\n",
        "# Add name, color, breed, legs, and age to the dog dictionary\n",
        "dog[\"name\"] = \"Booster\"\n",
        "dog[\"color\"] = \"Black \"\n",
        "dog[\"breed\"] = \"Rottweiler\"\n",
        "dog[\"legs\"] = 4\n",
        "dog[\"age\"] = 2\n",
        "\n",
        "# Create a student dictionary\n",
        "student = {\n",
        "    \"first_name\": \"Michael\",\n",
        "    \"last_name\": \"Jackson\",\n",
        "    \"gender\": \"Male\",\n",
        "    \"age\": 25,\n",
        "    \"marital_status\": \"Single\",\n",
        "    \"skills\": [\"Programming\", \"Problem Solving\"],\n",
        "    \"country\": \"USA\",\n",
        "    \"city\": \"New York\",\n",
        "    \"address\": \"502 S Main St\"\n",
        "}\n",
        "\n",
        "# Get the length of the student dictionary\n",
        "student_length = len(student)\n",
        "\n",
        "# Get the value of skills and check the data type\n",
        "skills_value = student[\"skills\"]\n",
        "skills_data_type = type(skills_value)\n",
        "\n",
        "# Modify the skills values by adding one or two skills\n",
        "student[\"skills\"].append(\"Communication\")\n",
        "student[\"skills\"].append(\"Teamwork\")\n",
        "\n",
        "# Get the dictionary keys as a list\n",
        "student_keys = list(student.keys())\n",
        "\n",
        "# Get the dictionary values as a list\n",
        "student_values = list(student.values())\n",
        "\n",
        "# Print the results\n",
        "print(\"Dog Dictionary:\", dog)\n",
        "print(\"Student Dictionary:\", student)\n",
        "print(\"Student Dictionary Length:\", student_length)\n",
        "print(\"Data Type of Skills Value:\", skills_data_type)\n",
        "print(\"Modified Skills:\", student[\"skills\"])\n",
        "print(\"Dictionary Keys:\", student_keys)\n",
        "print(\"Dictionary Values:\", student_values)\n"
      ],
      "metadata": {
        "colab": {
          "base_uri": "https://localhost:8080/"
        },
        "id": "0zRsYRgwGmDA",
        "outputId": "e04b864c-a87b-4f53-fc06-d9a9880256ab"
      },
      "execution_count": 1,
      "outputs": [
        {
          "output_type": "stream",
          "name": "stdout",
          "text": [
            "Dog Dictionary: {'name': 'Booster', 'color': 'Black ', 'breed': 'Rottweiler', 'legs': 4, 'age': 2}\n",
            "Student Dictionary: {'first_name': 'Michael', 'last_name': 'Jackson', 'gender': 'Male', 'age': 25, 'marital_status': 'Single', 'skills': ['Programming', 'Problem Solving', 'Communication', 'Teamwork'], 'country': 'USA', 'city': 'New York', 'address': '502 S Main St'}\n",
            "Student Dictionary Length: 9\n",
            "Data Type of Skills Value: <class 'list'>\n",
            "Modified Skills: ['Programming', 'Problem Solving', 'Communication', 'Teamwork']\n",
            "Dictionary Keys: ['first_name', 'last_name', 'gender', 'age', 'marital_status', 'skills', 'country', 'city', 'address']\n",
            "Dictionary Values: ['Michael', 'Jackson', 'Male', 25, 'Single', ['Programming', 'Problem Solving', 'Communication', 'Teamwork'], 'USA', 'New York', '502 S Main St']\n"
          ]
        }
      ]
    },
    {
      "cell_type": "code",
      "source": [
        "it_companies = {'Facebook', 'Google', 'Microsoft', 'Apple', 'IBM', 'Oracle', 'Amazon'}\n",
        "\n",
        "# Find the length of the set it_companies\n",
        "num_it_companies = len(it_companies)\n",
        "\n",
        "# Print the result\n",
        "print(\"Number of IT Companies:\", num_it_companies)\n"
      ],
      "metadata": {
        "colab": {
          "base_uri": "https://localhost:8080/"
        },
        "id": "HOvTqzuHJ5cu",
        "outputId": "380fd941-6d38-4ecf-c1ff-83c153f4deef"
      },
      "execution_count": null,
      "outputs": [
        {
          "output_type": "stream",
          "name": "stdout",
          "text": [
            "Number of IT Companies: 7\n"
          ]
        }
      ]
    },
    {
      "cell_type": "code",
      "source": [
        "it_companies = {'Facebook', 'Google', 'Microsoft', 'Apple', 'IBM', 'Oracle', 'Amazon'}\n",
        "\n",
        "# Add 'Twitter' to it_companies\n",
        "it_companies.add('Twitter')\n",
        "\n",
        "# Print the updated set\n",
        "print(\"Updated IT Companies Set:\", it_companies)\n"
      ],
      "metadata": {
        "colab": {
          "base_uri": "https://localhost:8080/"
        },
        "id": "k3Nuh8QEKL3l",
        "outputId": "1b1b4dfb-0c79-4c08-cb34-fb07bdb50414"
      },
      "execution_count": null,
      "outputs": [
        {
          "output_type": "stream",
          "name": "stdout",
          "text": [
            "Updated IT Companies Set: {'Twitter', 'Microsoft', 'Facebook', 'IBM', 'Oracle', 'Amazon', 'Apple', 'Google'}\n"
          ]
        }
      ]
    },
    {
      "cell_type": "code",
      "source": [
        "it_companies = {'Facebook', 'Google', 'Microsoft', 'Apple', 'IBM', 'Oracle', 'Amazon'}\n",
        "\n",
        "# Insert multiple IT companies at once\n",
        "it_companies.update(['Twitter', 'LinkedIn', 'Netflix'])\n",
        "\n",
        "# Print the updated set\n",
        "print(\"Updated IT Companies Set:\", it_companies)\n"
      ],
      "metadata": {
        "colab": {
          "base_uri": "https://localhost:8080/"
        },
        "id": "MRRVYbi_KOj-",
        "outputId": "9cc9e4a9-6726-4c48-acbd-862452d35433"
      },
      "execution_count": null,
      "outputs": [
        {
          "output_type": "stream",
          "name": "stdout",
          "text": [
            "Updated IT Companies Set: {'Twitter', 'Facebook', 'IBM', 'LinkedIn', 'Microsoft', 'Netflix', 'Google', 'Oracle', 'Amazon', 'Apple'}\n"
          ]
        }
      ]
    },
    {
      "cell_type": "code",
      "source": [
        "it_companies = {'Facebook', 'Google', 'Microsoft', 'Apple', 'IBM', 'Oracle', 'Amazon'}\n",
        "\n",
        "# Remove 'IBM' from it_companies\n",
        "it_companies.remove('IBM')\n",
        "\n",
        "# Print the updated set\n",
        "print(\"Updated IT Companies Set:\", it_companies)\n",
        "# Difference between remove and discard:\n",
        "# The remove() method raises an error if the element doesn't exist, while discard() doesn't raise an error."
      ],
      "metadata": {
        "colab": {
          "base_uri": "https://localhost:8080/"
        },
        "id": "Ad7_VnwUKaiW",
        "outputId": "34f96e12-f4d4-4136-f854-b9c428c37191"
      },
      "execution_count": null,
      "outputs": [
        {
          "output_type": "stream",
          "name": "stdout",
          "text": [
            "Updated IT Companies Set: {'Microsoft', 'Facebook', 'Oracle', 'Amazon', 'Apple', 'Google'}\n"
          ]
        }
      ]
    },
    {
      "cell_type": "code",
      "source": [
        "A = {19, 22, 24, 20, 25, 26}\n",
        "B = {19, 22, 20, 25, 26, 24, 28, 27}\n",
        "\n",
        "# Join A and B using .union()\n",
        "joined_set_union = A.union(B)\n",
        "\n",
        "# Join A and B using the | operator\n",
        "joined_set_operator = A | B\n",
        "\n",
        "# Print the results\n",
        "print(\"Joined Set using .union():\", joined_set_union)\n",
        "print(\"Joined Set using | operator:\", joined_set_operator)\n"
      ],
      "metadata": {
        "colab": {
          "base_uri": "https://localhost:8080/"
        },
        "id": "A73EP8G4LgaE",
        "outputId": "9f92b389-087b-4105-c4e9-9bd9547b0007"
      },
      "execution_count": null,
      "outputs": [
        {
          "output_type": "stream",
          "name": "stdout",
          "text": [
            "Joined Set using .union(): {19, 20, 22, 24, 25, 26, 27, 28}\n",
            "Joined Set using | operator: {19, 20, 22, 24, 25, 26, 27, 28}\n"
          ]
        }
      ]
    },
    {
      "cell_type": "code",
      "source": [
        "A = {19, 22, 24, 20, 25, 26}\n",
        "B = {19, 22, 20, 25, 26, 24, 28, 27}\n",
        "\n",
        "# Find the intersection of A and B using .intersection()\n",
        "intersection_set_method = A.intersection(B)\n",
        "\n",
        "# Find the intersection of A and B using the & operator\n",
        "intersection_set_operator = A & B\n",
        "\n",
        "# Print the results\n",
        "print(\"Intersection Set using .intersection():\", intersection_set_method)\n",
        "print(\"Intersection Set using & operator:\", intersection_set_operator)\n"
      ],
      "metadata": {
        "colab": {
          "base_uri": "https://localhost:8080/"
        },
        "id": "LfNLF4NYLki9",
        "outputId": "14ebcd92-881e-45ce-9b53-0f91d625f003"
      },
      "execution_count": null,
      "outputs": [
        {
          "output_type": "stream",
          "name": "stdout",
          "text": [
            "Intersection Set using .intersection(): {19, 20, 22, 24, 25, 26}\n",
            "Intersection Set using & operator: {19, 20, 22, 24, 25, 26}\n"
          ]
        }
      ]
    },
    {
      "cell_type": "code",
      "source": [
        "A = {19, 22, 24, 20, 25, 26}\n",
        "B = {19, 22, 20, 25, 26, 24, 28, 27}\n",
        "\n",
        "# Check if A is a subset of B\n",
        "is_subset = A.issubset(B)\n",
        "\n",
        "# Print the result\n",
        "print(\"Is A a Subset of B:\", is_subset)\n"
      ],
      "metadata": {
        "colab": {
          "base_uri": "https://localhost:8080/"
        },
        "id": "oi4ZN3XYLv4G",
        "outputId": "9ac5806b-47bb-4ca7-d756-f3fcf15cf291"
      },
      "execution_count": null,
      "outputs": [
        {
          "output_type": "stream",
          "name": "stdout",
          "text": [
            "Is A a Subset of B: True\n"
          ]
        }
      ]
    },
    {
      "cell_type": "code",
      "source": [
        "A = {19, 22, 24, 20, 25, 26}\n",
        "B = {19, 22, 20, 25, 26, 24, 28, 27}\n",
        "\n",
        "# Check if A and B are disjoint sets\n",
        "are_disjoint = A.isdisjoint(B)\n",
        "\n",
        "# Print the result\n",
        "print(\"Are A and B Disjoint:\", are_disjoint)\n"
      ],
      "metadata": {
        "colab": {
          "base_uri": "https://localhost:8080/"
        },
        "id": "PbxplEWQL_D1",
        "outputId": "e55cfeaf-9a99-466f-ce6b-e1d0abb67bd1"
      },
      "execution_count": null,
      "outputs": [
        {
          "output_type": "stream",
          "name": "stdout",
          "text": [
            "Are A and B Disjoint: False\n"
          ]
        }
      ]
    },
    {
      "cell_type": "code",
      "source": [
        "A = {19, 22, 24, 20, 25, 26}\n",
        "B = {19, 22, 20, 25, 26, 24, 28, 27}\n",
        "\n",
        "# Join A with B using .union()\n",
        "joined_AB = A.union(B)\n",
        "\n",
        "# Join B with A using .union()\n",
        "joined_BA = B.union(A)\n",
        "\n",
        "# Print the results\n",
        "print(\"Joined Set (A union B):\", joined_AB)\n",
        "print(\"Joined Set (B union A):\", joined_BA)\n"
      ],
      "metadata": {
        "colab": {
          "base_uri": "https://localhost:8080/"
        },
        "id": "aHIrLRtZMVse",
        "outputId": "c7092a44-0e27-44e1-8db6-c898126a8d4d"
      },
      "execution_count": null,
      "outputs": [
        {
          "output_type": "stream",
          "name": "stdout",
          "text": [
            "Joined Set (A union B): {19, 20, 22, 24, 25, 26, 27, 28}\n",
            "Joined Set (B union A): {19, 20, 22, 24, 25, 26, 27, 28}\n"
          ]
        }
      ]
    },
    {
      "cell_type": "code",
      "source": [
        "A = {19, 22, 24, 20, 25, 26}\n",
        "B = {19, 22, 20, 25, 26, 24, 28, 27}\n",
        "\n",
        "# Calculate the symmetric difference using .symmetric_difference()\n",
        "symmetric_diff_method = A.symmetric_difference(B)\n",
        "\n",
        "# Calculate the symmetric difference using ^ operator\n",
        "symmetric_diff_operator = A ^ B\n",
        "\n",
        "# Print the results\n",
        "print(\"Symmetric Difference (A symmetric difference B):\", symmetric_diff_method)\n",
        "print(\"Symmetric Difference (A symmetric difference B) using ^ operator:\", symmetric_diff_operator)\n"
      ],
      "metadata": {
        "colab": {
          "base_uri": "https://localhost:8080/"
        },
        "id": "3GFMYkKgMgXz",
        "outputId": "84a4b0c5-9fa9-4773-d36e-eb0d9aa9e260"
      },
      "execution_count": null,
      "outputs": [
        {
          "output_type": "stream",
          "name": "stdout",
          "text": [
            "Symmetric Difference (A symmetric difference B): {27, 28}\n",
            "Symmetric Difference (A symmetric difference B) using ^ operator: {27, 28}\n"
          ]
        }
      ]
    },
    {
      "cell_type": "code",
      "source": [
        "A = {19, 22, 24, 20, 25, 26}\n",
        "B = {19, 22, 20, 25, 26, 24, 28, 27}\n",
        "\n",
        "# Delete the sets completely\n",
        "del A\n",
        "del B\n",
        "\n",
        "# Try to access the sets (will result in NameError)\n",
        "try:\n",
        "    print(A)\n",
        "except NameError as e:\n",
        "    print(\"Error:\", e)\n",
        "\n",
        "try:\n",
        "    print(B)\n",
        "except NameError as e:\n",
        "    print(\"Error:\", e)\n"
      ],
      "metadata": {
        "colab": {
          "base_uri": "https://localhost:8080/"
        },
        "id": "GRs0DiJ3NKAA",
        "outputId": "3d5f6b78-214e-473e-c36b-eb622383e915"
      },
      "execution_count": null,
      "outputs": [
        {
          "output_type": "stream",
          "name": "stdout",
          "text": [
            "Error: name 'A' is not defined\n",
            "Error: name 'B' is not defined\n"
          ]
        }
      ]
    },
    {
      "cell_type": "code",
      "source": [
        "age = [22, 19, 24, 25, 26, 24, 25, 24]\n",
        "\n",
        "# Convert the ages to a set\n",
        "age_set = set(age)\n",
        "\n",
        "# Compare the length of the list and the set\n",
        "age_list_length = len(age)\n",
        "age_set_length = len(age_set)\n",
        "\n",
        "# Print the results\n",
        "print(\"Length of Age List:\", age_list_length)\n",
        "print(\"Length of Age Set:\", age_set_length)\n"
      ],
      "metadata": {
        "colab": {
          "base_uri": "https://localhost:8080/"
        },
        "id": "z-0BtMTsNO6Q",
        "outputId": "8704ce44-f4fe-4394-e80b-f51d311d3be6"
      },
      "execution_count": null,
      "outputs": [
        {
          "output_type": "stream",
          "name": "stdout",
          "text": [
            "Length of Age List: 8\n",
            "Length of Age Set: 5\n"
          ]
        }
      ]
    },
    {
      "cell_type": "code",
      "source": [
        "class Employee:\n",
        "    employee_count = 0\n",
        "\n",
        "    def __init__(self, name, family, salary, department):\n",
        "        self.name = name\n",
        "        self.family = family\n",
        "        self.salary = salary\n",
        "        self.department = department\n",
        "        Employee.employee_count += 1\n",
        "\n",
        "    def average_salary(self):\n",
        "        total_salary = self.salary + sum(self.family)\n",
        "        num_people = len(self.family) + 1  # Include the employee\n",
        "        return total_salary / num_people\n",
        "\n",
        "class FulltimeEmployee(Employee):\n",
        "    pass\n",
        "\n",
        "# Create an instance of the Employee class\n",
        "employee = Employee(\"John Doe\", [20000, 25000], 60000, \"HR\")\n",
        "\n",
        "# Create an instance of the FulltimeEmployee class\n",
        "fulltime_employee = FulltimeEmployee(\"Alice Smith\", [], 80000, \"IT\")\n",
        "\n",
        "# Call member functions\n",
        "employee_avg_salary = employee.average_salary()\n",
        "fulltime_employee_avg_salary = fulltime_employee.average_salary()\n",
        "\n",
        "# Print the results\n",
        "print(\"Employee Average Salary:\", employee_avg_salary)\n",
        "print(\"Fulltime Employee Average Salary:\", fulltime_employee_avg_salary)\n",
        "print(\"Total Employee Count:\", Employee.employee_count)\n"
      ],
      "metadata": {
        "colab": {
          "base_uri": "https://localhost:8080/"
        },
        "id": "6_QAgGvKPlAi",
        "outputId": "4cbb5936-0b3d-44bd-b656-74c40c39f968"
      },
      "execution_count": null,
      "outputs": [
        {
          "output_type": "stream",
          "name": "stdout",
          "text": [
            "Employee Average Salary: 35000.0\n",
            "Fulltime Employee Average Salary: 80000.0\n",
            "Total Employee Count: 2\n"
          ]
        }
      ]
    }
  ]
}